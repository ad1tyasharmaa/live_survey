{
 "cells": [
  {
   "cell_type": "code",
   "execution_count": 1,
   "id": "3485fb79-e265-420b-849b-79da94034834",
   "metadata": {},
   "outputs": [],
   "source": [
    "from flask import Flask, render_template, request, jsonify, redirect, Response, url_for\n",
    "import cv2\n",
    "import numpy as np\n",
    "import threading\n",
    "        "
   ]
  },
  {
   "cell_type": "code",
   "execution_count": 2,
   "id": "8948514e-efd4-4e75-8c87-a2c7e2680763",
   "metadata": {},
   "outputs": [],
   "source": [
    "app = Flask(__name__)\n",
    "detected_skin_color = None"
   ]
  },
  {
   "cell_type": "code",
   "execution_count": 3,
   "id": "ff62c76a-90bc-49c0-a025-f155ef73f574",
   "metadata": {},
   "outputs": [],
   "source": [
    "@app.route('/')\n",
    "def index():\n",
    "    return render_template('index.html')\n"
   ]
  },
  {
   "cell_type": "code",
   "execution_count": 4,
   "id": "ed6fb901-0dea-49b8-b0dc-64763098787b",
   "metadata": {},
   "outputs": [],
   "source": [
    "@app.route('/submit', methods=['POST'])\n",
    "def submit():\n",
    "    global detected_skin_color\n",
    "    question = request.form.get('question')\n",
    "    answer = request.form.get('answer')\n",
    "    \n",
    "    # Log the response (you can process/store the response as needed)\n",
    "    print(f\"Question: {question}, Answer: {answer}\")\n",
    "\n",
    "    # For simplicity, respond with a success message\n",
    "    return jsonify(success=True)\n",
    "\n"
   ]
  },
  {
   "cell_type": "code",
   "execution_count": 5,
   "id": "22231775-4ae5-4f06-9675-7b84ddda6921",
   "metadata": {},
   "outputs": [],
   "source": [
    "@app.route('/video_feed')\n",
    "def video_feed():\n",
    "    # Returns the video stream response\n",
    "    return Response(generate(), mimetype='multipart/x-mixed-replace; boundary=frame')\n"
   ]
  },
  {
   "cell_type": "code",
   "execution_count": 6,
   "id": "d680e4c5-ed84-4592-b0ae-f876bb276e4b",
   "metadata": {},
   "outputs": [],
   "source": [
    "def generate():\n",
    "    global detected_skin_color\n",
    "    video_cap = cv2.VideoCapture(0)\n",
    "    face_cap = cv2.CascadeClassifier(cv2.data.haarcascades + 'haarcascade_frontalface_default.xml')\n",
    "\n",
    "    lower_skin = np.array([0, 20, 70], dtype=np.uint8)\n",
    "    upper_skin = np.array([20, 255, 255], dtype=np.uint8)\n",
    "\n",
    "    while True:\n",
    "        ret, frame = video_cap.read()\n",
    "        if not ret:\n",
    "            break\n",
    "        \n",
    "        # Convert to HSV and detect skin color\n",
    "        hsv_frame = cv2.cvtColor(frame, cv2.COLOR_BGR2HSV)\n",
    "        skin_mask = cv2.inRange(hsv_frame, lower_skin, upper_skin)\n",
    "        skin_segment = cv2.bitwise_and(frame, frame, mask=skin_mask)\n",
    "\n",
    "        # Detect faces\n",
    "        faces = face_cap.detectMultiScale(frame, scaleFactor=1.1, minNeighbors=5, minSize=(30, 30))\n",
    "        for (x, y, w, h) in faces:\n",
    "            face_roi = skin_segment[y:y + h, x:x + w]\n",
    "            average_color = cv2.mean(face_roi, mask=skin_mask[y:y + h, x:x + w])[:3]\n",
    "\n",
    "            # Determine skin color\n",
    "            if np.mean(average_color) < 60:\n",
    "                detected_skin_color = \"Black\"\n",
    "            elif np.mean(average_color) < 150:\n",
    "                detected_skin_color = \"Brown\"\n",
    "            else:\n",
    "                detected_skin_color = \"White\"\n",
    "            \n",
    "            # Draw rectangle around the face and display skin color\n",
    "            cv2.rectangle(frame, (x, y), (x + w, y + h), (0, 255, 0), 2)\n",
    "            cv2.putText(frame, f\"Skin Color: {detected_skin_color}\", (x, y - 10), cv2.FONT_HERSHEY_SIMPLEX, 0.9, (0, 255, 0), 2)\n",
    "\n",
    "        _, jpeg = cv2.imencode('.jpg', frame)\n",
    "        frame = jpeg.tobytes()\n",
    "\n",
    "        yield (b'--frame\\r\\n'\n",
    "               b'Content-Type: image/jpeg\\r\\n\\r\\n' + frame + b'\\r\\n\\r\\n')\n",
    "\n",
    "    video_cap.release()"
   ]
  },
  {
   "cell_type": "code",
   "execution_count": 7,
   "id": "f07fc0c7-218b-4527-8c8b-9ceb790c280e",
   "metadata": {},
   "outputs": [],
   "source": [
    "@app.route('/get_skin_color', methods=['GET'])\n",
    "def get_skin_color():\n",
    "    global detected_skin_color\n",
    "    return jsonify(skin_color=detected_skin_color)"
   ]
  },
  {
   "cell_type": "code",
   "execution_count": 8,
   "id": "080ac897-b480-4268-93c7-74ab7a7de5d8",
   "metadata": {},
   "outputs": [],
   "source": [
    "@app.route('/video')\n",
    "def video():\n",
    "    global detected_skin_color\n",
    "    return render_template('video.html', detected_skin_color=detected_skin_color)\n"
   ]
  },
  {
   "cell_type": "code",
   "execution_count": 9,
   "id": "9c9887a5-1699-4872-862b-dc116639a756",
   "metadata": {},
   "outputs": [],
   "source": [
    "# @app.route('/video_feed_new')\n",
    "# def video_feed_new():\n",
    "#     return Response(gen_frames(), mimetype='multipart/x-mixed-replace; boundary=frame')\n",
    "@app.route('/final_step', methods=['POST'])\n",
    "def final_step():\n",
    "    if detected_skin_color:\n",
    "        return redirect(url_for('racism_questionnaire'))\n",
    "    else:\n",
    "        return redirect(url_for('video'))"
   ]
  },
  {
   "cell_type": "code",
   "execution_count": 10,
   "id": "f3402558-f645-4a55-adf4-f53b4e5c3d6c",
   "metadata": {},
   "outputs": [],
   "source": [
    "# @app.route('/video_stream')\n",
    "# def video_stream():\n",
    "#     global detected_skin_color  # Access the global variable\n",
    "\n",
    "#     def generate():\n",
    "#         global detected_skin_color\n",
    "#         video_cap = cv2.VideoCapture(0)\n",
    "#         face_cap = cv2.CascadeClassifier(\"C:/Program Files/Python312/Lib/site-packages/cv2/data/haarcascade_frontalface_default.xml\")\n",
    "#         lower_skin = np.array([0, 20, 70], dtype=np.uint8)\n",
    "#         upper_skin = np.array([20, 255, 255], dtype=np.uint8)\n",
    "\n",
    "#         while True:\n",
    "#             ret, frame = video_cap.read()\n",
    "#             if not ret:\n",
    "#                 break\n",
    "            \n",
    "#             hsv_frame = cv2.cvtColor(frame, cv2.COLOR_BGR2HSV)\n",
    "#             skin_mask = cv2.inRange(hsv_frame, lower_skin, upper_skin)\n",
    "#             skin_segment = cv2.bitwise_and(frame, frame, mask=skin_mask)\n",
    "\n",
    "#             faces = face_cap.detectMultiScale(frame, scaleFactor=1.1, minNeighbors=5, minSize=(30, 30))\n",
    "\n",
    "#             for (x, y, w, h) in faces:\n",
    "#                 face_roi = skin_segment[y:y + h, x:x + w]\n",
    "#                 average_color = cv2.mean(face_roi, mask=skin_mask[y:y + h, x:x + w])[:3]\n",
    "\n",
    "#                 # Determine the skin color based on average color values\n",
    "#                 if np.mean(average_color) < 60:\n",
    "#                     detected_skin_color = \"Black\"\n",
    "#                 elif np.mean(average_color) < 150:\n",
    "#                     detected_skin_color = \"Brown\"\n",
    "#                 else:\n",
    "#                     detected_skin_color = \"White\"\n",
    "\n",
    "#                 cv2.rectangle(frame, (x, y), (x + w, y + h), (0, 255, 0), 2)\n",
    "#                 break  # Stop after detecting the first face to avoid multiple detections\n",
    "\n",
    "#             _, jpeg = cv2.imencode('.jpg', frame)\n",
    "#             frame = jpeg.tobytes()\n",
    "\n",
    "#             yield (b'--frame\\r\\n'\n",
    "#                    b'Content-Type: image/jpeg\\r\\n\\r\\n' + frame + b'\\r\\n\\r\\n')\n",
    "\n",
    "#             if detected_skin_color:  # Stop streaming once skin color is detected\n",
    "#                 break\n",
    "\n",
    "#         video_cap.release()\n",
    "\n",
    "#     return Response(generate(), mimetype='multipart/x-mixed-replace; boundary=frame')"
   ]
  },
  {
   "cell_type": "code",
   "execution_count": 11,
   "id": "21079607-6378-4186-88a8-c8ae98ea9cae",
   "metadata": {},
   "outputs": [],
   "source": [
    "# @app.route('/video')\n",
    "# def video():\n",
    "#     global detected_skin_color\n",
    "#     if detected_skin_color:\n",
    "#         return render_template('video.html', detected_skin_color=detected_skin_color)\n",
    "#     else:\n",
    "#         return redirect(url_for('video_stream'))  # Redirect to video stream if skin color is not detected\n"
   ]
  },
  {
   "cell_type": "code",
   "execution_count": 12,
   "id": "cdb2d211-c611-47a6-81a9-8e4c99cdadf8",
   "metadata": {},
   "outputs": [],
   "source": [
    "# @app.route('/final_step', methods=['POST'])\n",
    "# def final_step():\n",
    "#     if detected_skin_color:\n",
    "#         return redirect(url_for('racism_questionnaire'))\n",
    "#     else:\n",
    "#         return redirect(url_for('video'))\n"
   ]
  },
  {
   "cell_type": "code",
   "execution_count": 13,
   "id": "acf9ce4c-6c3b-493e-ab74-5af44062a402",
   "metadata": {},
   "outputs": [],
   "source": [
    "# @app.route('/racism_questionnaire', methods=['GET', 'POST'])\n",
    "# def racism_questionnaire():\n",
    "#     if request.method == 'POST':\n",
    "#         answer = request.form.get('answer')\n",
    "#         # Handle the response here\n",
    "#         return redirect(url_for('thank_you'))\n",
    "#     return render_template('racism_questionnaire.html')\n",
    "@app.route('/racism_questionnaire', methods=['GET', 'POST'])\n",
    "def racism_questionnaire():\n",
    "    if request.method == 'POST':\n",
    "        answer = request.form.get('answer')\n",
    "        # Handle the response here\n",
    "        return redirect(url_for('thank_you'))\n",
    "    return render_template('racism_questionnaire.html')"
   ]
  },
  {
   "cell_type": "code",
   "execution_count": 14,
   "id": "bfe07df7-10bc-4c8c-b9cf-e9d831c33b44",
   "metadata": {},
   "outputs": [],
   "source": [
    "# @app.route('/submit_racism_response', methods=['POST'])\n",
    "# def submit_racism_response():\n",
    "#     response = request.form.get('racism')\n",
    "#     # Process the response, e.g., save to database, analyze, etc.\n",
    "#     return render_template('thank_you.html')\n",
    "@app.route('/submit_racism_response', methods=['POST'])\n",
    "def submit_racism_response():\n",
    "    response = request.form.get('racism')\n",
    "    # Process the response, e.g., save to database, analyze, etc.\n",
    "    return render_template('thank_you.html')\n"
   ]
  },
  {
   "cell_type": "code",
   "execution_count": null,
   "id": "02f6e451-de53-445c-b62b-e3fcfabc969d",
   "metadata": {},
   "outputs": [
    {
     "name": "stdout",
     "output_type": "stream",
     "text": [
      " * Serving Flask app '__main__'\n",
      " * Debug mode: off\n"
     ]
    },
    {
     "name": "stderr",
     "output_type": "stream",
     "text": [
      "WARNING: This is a development server. Do not use it in a production deployment. Use a production WSGI server instead.\n",
      " * Running on http://127.0.0.1:5000\n",
      "Press CTRL+C to quit\n",
      "127.0.0.1 - - [08/Sep/2024 13:35:17] \"GET / HTTP/1.1\" 200 -\n",
      "127.0.0.1 - - [08/Sep/2024 13:35:20] \"POST /submit HTTP/1.1\" 200 -\n"
     ]
    },
    {
     "name": "stdout",
     "output_type": "stream",
     "text": [
      "Question: What is your skin type?, Answer: Dark\n"
     ]
    },
    {
     "name": "stderr",
     "output_type": "stream",
     "text": [
      "127.0.0.1 - - [08/Sep/2024 13:35:22] \"POST /submit HTTP/1.1\" 200 -\n"
     ]
    },
    {
     "name": "stdout",
     "output_type": "stream",
     "text": [
      "Question: How often do you use sunscreen?, Answer: Always\n"
     ]
    },
    {
     "name": "stderr",
     "output_type": "stream",
     "text": [
      "127.0.0.1 - - [08/Sep/2024 13:35:25] \"POST /submit HTTP/1.1\" 200 -\n"
     ]
    },
    {
     "name": "stdout",
     "output_type": "stream",
     "text": [
      "Question: Do you have any skin allergies?, Answer: No\n"
     ]
    },
    {
     "name": "stderr",
     "output_type": "stream",
     "text": [
      "127.0.0.1 - - [08/Sep/2024 13:35:26] \"GET /video HTTP/1.1\" 200 -\n",
      "127.0.0.1 - - [08/Sep/2024 13:35:27] \"GET /get_skin_color HTTP/1.1\" 200 -\n",
      "127.0.0.1 - - [08/Sep/2024 13:35:28] \"GET /get_skin_color HTTP/1.1\" 200 -\n",
      "127.0.0.1 - - [08/Sep/2024 13:35:29] \"GET /get_skin_color HTTP/1.1\" 200 -\n",
      "127.0.0.1 - - [08/Sep/2024 13:35:30] \"GET /get_skin_color HTTP/1.1\" 200 -\n",
      "127.0.0.1 - - [08/Sep/2024 13:35:31] \"GET /get_skin_color HTTP/1.1\" 200 -\n",
      "127.0.0.1 - - [08/Sep/2024 13:35:31] \"GET /video_feed HTTP/1.1\" 200 -\n",
      "127.0.0.1 - - [08/Sep/2024 13:35:32] \"GET /get_skin_color HTTP/1.1\" 200 -\n",
      "127.0.0.1 - - [08/Sep/2024 13:35:33] \"GET /get_skin_color HTTP/1.1\" 200 -\n",
      "127.0.0.1 - - [08/Sep/2024 13:35:34] \"GET /get_skin_color HTTP/1.1\" 200 -\n",
      "127.0.0.1 - - [08/Sep/2024 13:35:35] \"GET /get_skin_color HTTP/1.1\" 200 -\n",
      "127.0.0.1 - - [08/Sep/2024 13:35:35] \"POST /final_step HTTP/1.1\" 302 -\n",
      "127.0.0.1 - - [08/Sep/2024 13:35:35] \"GET /racism_questionnaire HTTP/1.1\" 200 -\n",
      "127.0.0.1 - - [08/Sep/2024 13:35:39] \"POST /submit_racism_response HTTP/1.1\" 200 -\n"
     ]
    }
   ],
   "source": [
    "if __name__ == '__main__':\n",
    "    app.run()\n"
   ]
  },
  {
   "cell_type": "code",
   "execution_count": null,
   "id": "f56e5595-3de3-4e3c-92a1-261b5a064294",
   "metadata": {},
   "outputs": [],
   "source": []
  },
  {
   "cell_type": "code",
   "execution_count": null,
   "id": "17e6eb50-5ad5-40a5-9c76-ab34f83f886c",
   "metadata": {},
   "outputs": [],
   "source": []
  }
 ],
 "metadata": {
  "kernelspec": {
   "display_name": "Python 3 (ipykernel)",
   "language": "python",
   "name": "python3"
  },
  "language_info": {
   "codemirror_mode": {
    "name": "ipython",
    "version": 3
   },
   "file_extension": ".py",
   "mimetype": "text/x-python",
   "name": "python",
   "nbconvert_exporter": "python",
   "pygments_lexer": "ipython3",
   "version": "3.12.4"
  }
 },
 "nbformat": 4,
 "nbformat_minor": 5
}
